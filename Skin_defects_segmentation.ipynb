{
 "cells": [
  {
   "cell_type": "markdown",
   "metadata": {
    "id": "VAjaZihCjO-n"
   },
   "source": [
    "# Сегментация дефектов кожного покрова\n"
   ]
  },
  {
   "cell_type": "code",
   "execution_count": 1,
   "metadata": {
    "id": "_xbyAiIyjM6t"
   },
   "outputs": [],
   "source": [
    " #набор данных isic"
   ]
  },
  {
   "cell_type": "code",
   "execution_count": 2,
   "metadata": {
    "colab": {
     "base_uri": "https://localhost:8080/"
    },
    "id": "NSaTC-ctjMz2",
    "outputId": "e83c5a22-8cd1-4fce-a139-51bf254d61c9"
   },
   "outputs": [],
   "source": [
    "#%%capture\n",
    "# !wget https://isic-challenge-data.s3.amazonaws.com/2018/ISIC2018_Task1-2_Training_Input.zip ISIC2018\n",
    "\n",
    "# !unzip -q ISIC2018_Task1-2_Training_Input.zip\n",
    "# !rm ISIC2018_Task1-2_Training_Input.zip\n",
    "\n",
    "# !wget https://isic-challenge-data.s3.amazonaws.com/2018/ISIC2018_Task1_Training_GroundTruth.zip ISIC2018\n",
    "\n",
    "# !unzip -q ISIC2018_Task1_Training_GroundTruth.zip\n",
    "# !rm ISIC2018_Task1_Training_GroundTruth.zip\n",
    "\n",
    "# !wget https://isic-challenge-data.s3.amazonaws.com/2018/ISIC2018_Task1-2_Validation_Input.zip ISIC2018\n",
    "# !unzip ISIC2018_Task1-2_Validation_Input.zip\n",
    "# !rm ISIC2018_Task1-2_Validation_Input.zip\n",
    "\n",
    "# !wget https://isic-challenge-data.s3.amazonaws.com/2018/ISIC2018_Task1_Validation_GroundTruth.zip ISIC2018\n",
    "# !unzip ISIC2018_Task1_Validation_GroundTruth.zip\n",
    "# !rm ISIC2018_Task1_Validation_GroundTruth.zip\n",
    "\n",
    "# !wget https://isic-challenge-data.s3.amazonaws.com/2018/ISIC2018_Task1-2_Test_Input.zip ISIC2018\n",
    "# !unzip ISIC2018_Task1-2_Test_Input.zip\n",
    "# !rm ISIC2018_Task1-2_Test_Input.zip\n",
    "\n",
    "# !wget https://isic-challenge-data.s3.amazonaws.com/2018/ISIC2018_Task1_Test_GroundTruth.zip ISIC2018\n",
    "# !unzip ISIC2018_Task1_Test_GroundTruth.zip\n",
    "# !rm ISIC2018_Task1_Test_GroundTruth.zip"
   ]
  },
  {
   "cell_type": "code",
   "execution_count": 3,
   "metadata": {
    "id": "KBlRu_g2WDNS"
   },
   "outputs": [],
   "source": [
    "# !rm ISIC2018_Task1-2_Training_Input/LICENSE.txt\n",
    "# !rm ISIC2018_Task1-2_Training_Input/ATTRIBUTION.txt"
   ]
  },
  {
   "cell_type": "code",
   "execution_count": 4,
   "metadata": {
    "id": "Tg7ePgK_ufEd"
   },
   "outputs": [],
   "source": [
    "# !rm ISIC2018_Task1-2_Validation_Input/LICENSE.txt\n",
    "# !rm ISIC2018_Task1-2_Validation_Input/ATTRIBUTION.txt"
   ]
  },
  {
   "cell_type": "code",
   "execution_count": 5,
   "metadata": {
    "id": "IuOXK5h2uz5j"
   },
   "outputs": [],
   "source": [
    "# !rm ISIC2018_Task1-2_Test_Input/LICENSE.txt\n",
    "# !rm ISIC2018_Task1-2_Test_Input/ATTRIBUTION.txt"
   ]
  },
  {
   "cell_type": "code",
   "execution_count": 6,
   "metadata": {
    "colab": {
     "base_uri": "https://localhost:8080/"
    },
    "id": "pSKoFt8UuarZ",
    "outputId": "5b8ee6fd-8622-490f-b90e-7b3351bb66c4"
   },
   "outputs": [],
   "source": [
    "# !rm ISIC2018_Task1_Training_GroundTruth/ATTRIBUTION.txt\n",
    "# !rm ISIC2018_Task1_Training_GroundTruth/LICENSE.txt"
   ]
  },
  {
   "cell_type": "code",
   "execution_count": 7,
   "metadata": {
    "id": "ATh1wrKFt1CN"
   },
   "outputs": [],
   "source": [
    "# !rm ISIC2018_Task1_Validation_GroundTruth/ATTRIBUTION.txt\n",
    "# !rm ISIC2018_Task1_Validation_GroundTruth/LICENSE.txt"
   ]
  },
  {
   "cell_type": "code",
   "execution_count": 8,
   "metadata": {
    "id": "fgXknmVAt1J0"
   },
   "outputs": [],
   "source": [
    "# !rm ISIC2018_Task1_Test_GroundTruth/ATTRIBUTION.txt\n",
    "# !rm ISIC2018_Task1_Test_GroundTruth/LICENSE.txt"
   ]
  },
  {
   "cell_type": "code",
   "execution_count": 9,
   "metadata": {
    "id": "oqGSLzk0gLnA"
   },
   "outputs": [],
   "source": [
    "import torch\n",
    "import torchvision.transforms as transforms\n",
    "from torch.utils.data import Dataset, DataLoader\n",
    "from PIL import Image\n",
    "import os"
   ]
  },
  {
   "cell_type": "code",
   "execution_count": 10,
   "metadata": {
    "id": "ywE3aYk_a4YQ"
   },
   "outputs": [],
   "source": [
    "class CustomDataset(Dataset):\n",
    "    def __init__(self, image_folder, mask_folder, transform=None):\n",
    "        self.image_folder = image_folder\n",
    "        self.mask_folder = mask_folder\n",
    "        self.transform = transform\n",
    "        self.image_files = os.listdir(image_folder)\n",
    "        self.mask_files = os.listdir(mask_folder)\n",
    "\n",
    "    def __len__(self):\n",
    "        return len(self.image_files)\n",
    "\n",
    "    def __getitem__(self, idx):\n",
    "        img_name = self.image_files[idx]\n",
    "        mask_name = self.mask_files[idx]\n",
    "        img_path = os.path.join(self.image_folder, img_name)\n",
    "        mask_path = os.path.join(self.mask_folder, mask_name)\n",
    "        \n",
    "        image = Image.open(img_path)\n",
    "        mask = Image.open(mask_path).convert(\"L\")  # Convert mask to grayscale\n",
    "\n",
    "        if self.transform:\n",
    "            image = self.transform(image)\n",
    "            mask = self.transform(mask) #не нужно Normalize\n",
    "\n",
    "        return image, mask\n"
   ]
  },
  {
   "cell_type": "code",
   "execution_count": 11,
   "metadata": {
    "id": "ueuVX3FZa4de"
   },
   "outputs": [],
   "source": [
    "transform = transforms.Compose([\n",
    "    transforms.Resize((224, 224)),  # Resize to match input size of ResNet-50\n",
    "    transforms.ToTensor(),  # Convert PIL image to tensor\n",
    "    #transforms.Normalize(mean=[0.485, 0.456, 0.406], std=[0.229, 0.224, 0.225])  # Normalize using ImageNet mean and std\n",
    "])"
   ]
  },
  {
   "cell_type": "code",
   "execution_count": 12,
   "metadata": {
    "id": "Mqw2Gp-ba4gm"
   },
   "outputs": [],
   "source": [
    "train_dataset = CustomDataset(image_folder='ISIC2018_Task1-2_Training_Input/', mask_folder='ISIC2018_Task1_Training_GroundTruth/', transform=transform)\n",
    "val_dataset = CustomDataset(image_folder='ISIC2018_Task1-2_Validation_Input/', mask_folder='ISIC2018_Task1_Validation_GroundTruth/', transform=transform)\n",
    "test_dataset = CustomDataset(image_folder='ISIC2018_Task1-2_Test_Input/', mask_folder='ISIC2018_Task1_Test_GroundTruth/', transform=transform)\n",
    "\n",
    "\n",
    "train_loader = DataLoader(train_dataset, batch_size=32, shuffle=True)\n",
    "val_loader = DataLoader(val_dataset, batch_size=32, shuffle=False)\n",
    "test_loader = DataLoader(test_dataset, batch_size=32, shuffle=False)"
   ]
  },
  {
   "cell_type": "code",
   "execution_count": 13,
   "metadata": {
    "colab": {
     "base_uri": "https://localhost:8080/"
    },
    "id": "T-pZsvgJgqlh",
    "outputId": "c91634b1-4ba8-4269-a333-108fceab4af7"
   },
   "outputs": [
    {
     "data": {
      "text/plain": [
       "2594"
      ]
     },
     "execution_count": 13,
     "metadata": {},
     "output_type": "execute_result"
    }
   ],
   "source": [
    "len(train_dataset)"
   ]
  },
  {
   "cell_type": "code",
   "execution_count": 14,
   "metadata": {
    "id": "B2P9eIRQ9TqT"
   },
   "outputs": [
    {
     "name": "stderr",
     "output_type": "stream",
     "text": [
      "Failed to detect the name of this notebook, you can set it manually with the WANDB_NOTEBOOK_NAME environment variable to enable code saving.\n",
      "\u001b[34m\u001b[1mwandb\u001b[0m: Currently logged in as: \u001b[33mar4ikov\u001b[0m (\u001b[33msocialcode_donstu\u001b[0m). Use \u001b[1m`wandb login --relogin`\u001b[0m to force relogin\n"
     ]
    },
    {
     "data": {
      "text/html": [
       "wandb version 0.15.3 is available!  To upgrade, please run:\n",
       " $ pip install wandb --upgrade"
      ],
      "text/plain": [
       "<IPython.core.display.HTML object>"
      ]
     },
     "metadata": {},
     "output_type": "display_data"
    },
    {
     "data": {
      "text/html": [
       "Tracking run with wandb version 0.15.0"
      ],
      "text/plain": [
       "<IPython.core.display.HTML object>"
      ]
     },
     "metadata": {},
     "output_type": "display_data"
    },
    {
     "data": {
      "text/html": [
       "Run data is saved locally in <code>/media/ar4ikov/DataStorage/skin_defects/wandb/run-20230525_001443-r7yajmyj</code>"
      ],
      "text/plain": [
       "<IPython.core.display.HTML object>"
      ]
     },
     "metadata": {},
     "output_type": "display_data"
    },
    {
     "data": {
      "text/html": [
       "Syncing run <strong><a href='https://wandb.ai/socialcode_donstu/skin-defects-segmentation/runs/r7yajmyj' target=\"_blank\">segnet-1-4</a></strong> to <a href='https://wandb.ai/socialcode_donstu/skin-defects-segmentation' target=\"_blank\">Weights & Biases</a> (<a href='https://wandb.me/run' target=\"_blank\">docs</a>)<br/>"
      ],
      "text/plain": [
       "<IPython.core.display.HTML object>"
      ]
     },
     "metadata": {},
     "output_type": "display_data"
    },
    {
     "data": {
      "text/html": [
       " View project at <a href='https://wandb.ai/socialcode_donstu/skin-defects-segmentation' target=\"_blank\">https://wandb.ai/socialcode_donstu/skin-defects-segmentation</a>"
      ],
      "text/plain": [
       "<IPython.core.display.HTML object>"
      ]
     },
     "metadata": {},
     "output_type": "display_data"
    },
    {
     "data": {
      "text/html": [
       " View run at <a href='https://wandb.ai/socialcode_donstu/skin-defects-segmentation/runs/r7yajmyj' target=\"_blank\">https://wandb.ai/socialcode_donstu/skin-defects-segmentation/runs/r7yajmyj</a>"
      ],
      "text/plain": [
       "<IPython.core.display.HTML object>"
      ]
     },
     "metadata": {},
     "output_type": "display_data"
    },
    {
     "data": {
      "text/html": [
       "<button onClick=\"this.nextSibling.style.display='block';this.style.display='none';\">Display W&B run</button><iframe src='https://wandb.ai/socialcode_donstu/skin-defects-segmentation/runs/r7yajmyj?jupyter=true' style='border:none;width:100%;height:420px;display:none;'></iframe>"
      ],
      "text/plain": [
       "<wandb.sdk.wandb_run.Run at 0x7fc9e7fa6920>"
      ]
     },
     "execution_count": 14,
     "metadata": {},
     "output_type": "execute_result"
    }
   ],
   "source": [
    "import wandb\n",
    "wandb.login()\n",
    "wandb.init(\n",
    "    project=\"skin-defects-segmentation\",\n",
    "    name='segnet-1-4',\n",
    "    # Track hyperparameters and run metadata\n",
    "    config={\n",
    "        \"learning_rate\": 1e-3,\n",
    "        \"epochs\": 2,\n",
    "    })"
   ]
  },
  {
   "cell_type": "code",
   "execution_count": 15,
   "metadata": {
    "colab": {
     "base_uri": "https://localhost:8080/"
    },
    "id": "_e6_auMHYOht",
    "outputId": "f3510db3-3bc9-47d8-cd23-180bc6a06687"
   },
   "outputs": [
    {
     "name": "stdout",
     "output_type": "stream",
     "text": [
      "Thu May 25 00:14:51 2023       \n",
      "+---------------------------------------------------------------------------------------+\n",
      "| NVIDIA-SMI 530.41.03              Driver Version: 530.41.03    CUDA Version: 12.1     |\n",
      "|-----------------------------------------+----------------------+----------------------+\n",
      "| GPU  Name                  Persistence-M| Bus-Id        Disp.A | Volatile Uncorr. ECC |\n",
      "| Fan  Temp  Perf            Pwr:Usage/Cap|         Memory-Usage | GPU-Util  Compute M. |\n",
      "|                                         |                      |               MIG M. |\n",
      "|=========================================+======================+======================|\n",
      "|   0  NVIDIA GeForce RTX 3090         Off| 00000000:24:00.0 Off |                  N/A |\n",
      "|  0%   37C    P8               22W / 350W|    736MiB / 24576MiB |      0%      Default |\n",
      "|                                         |                      |                  N/A |\n",
      "+-----------------------------------------+----------------------+----------------------+\n",
      "|   1  NVIDIA GeForce RTX 3090         Off| 00000000:2D:00.0 Off |                  N/A |\n",
      "|  0%   38C    P8               27W / 350W|    101MiB / 24576MiB |      1%      Default |\n",
      "|                                         |                      |                  N/A |\n",
      "+-----------------------------------------+----------------------+----------------------+\n",
      "                                                                                         \n",
      "+---------------------------------------------------------------------------------------+\n",
      "| Processes:                                                                            |\n",
      "|  GPU   GI   CI        PID   Type   Process name                            GPU Memory |\n",
      "|        ID   ID                                                             Usage      |\n",
      "|=======================================================================================|\n",
      "|    0   N/A  N/A      1539      G   /usr/lib/xorg/Xorg                            4MiB |\n",
      "|    0   N/A  N/A      2480      C   python                                      728MiB |\n",
      "|    1   N/A  N/A      1539      G   /usr/lib/xorg/Xorg                           86MiB |\n",
      "|    1   N/A  N/A      1701      G   /usr/bin/gnome-shell                         10MiB |\n",
      "+---------------------------------------------------------------------------------------+\n"
     ]
    },
    {
     "data": {
      "text/plain": [
       "True"
      ]
     },
     "execution_count": 15,
     "metadata": {},
     "output_type": "execute_result"
    }
   ],
   "source": [
    "import torch\n",
    "import torch.nn as nn\n",
    "import torch.nn.functional as F\n",
    "from torchvision import models\n",
    "import torch.optim as optim\n",
    "from time import time\n",
    "from torchvision import transforms\n",
    "from scipy.ndimage import distance_transform_edt as dist\n",
    "from pandas import DataFrame  as df\n",
    "from pandas import Series\n",
    "from pandas import read_csv\n",
    "from IPython.display import clear_output\n",
    "import matplotlib.pyplot as plt\n",
    "from tqdm.notebook import tqdm\n",
    "\n",
    "from matplotlib import rcParams\n",
    "rcParams['figure.figsize'] = (15, 4)\n",
    "\n",
    "!nvidia-smi\n",
    "\n",
    "torch.cuda.is_available()"
   ]
  },
  {
   "cell_type": "code",
   "execution_count": 16,
   "metadata": {},
   "outputs": [],
   "source": [
    "import os\n",
    "\n",
    "os.environ['CUDA_VISIBLE_DEVICES'] = '1,'"
   ]
  },
  {
   "cell_type": "code",
   "execution_count": 17,
   "metadata": {
    "id": "La68ZVOwXL43"
   },
   "outputs": [],
   "source": [
    "class SegNet2(nn.Module):\n",
    "    def __init__(self):\n",
    "        super().__init__()\n",
    "\n",
    "        # encoder (downsampling)\n",
    "        # Each enc_conv/dec_conv block should look like this:\n",
    "        # nn.Sequential(\n",
    "        #     nn.Conv2d(...),\n",
    "        #     ... (2 or 3 conv layers with relu and batchnorm),\n",
    "        # )\n",
    "        self.enc_conv0 =nn.Sequential(\n",
    "            nn.Conv2d(in_channels=3, out_channels=8, padding=1, kernel_size=3),\n",
    "            nn.BatchNorm2d(8),\n",
    "            nn.ReLU()\n",
    "        )\n",
    "        self.pool0 = nn.MaxPool2d(kernel_size=2, return_indices=True)  # 256 -> 128\n",
    "        \n",
    "\n",
    "        self.enc_conv1 = nn.Sequential(\n",
    "            nn.Conv2d(in_channels=8, out_channels=32, padding=1, kernel_size=3),\n",
    "            nn.BatchNorm2d(32),\n",
    "            nn.ReLU()\n",
    "        )\n",
    "        self.pool1 = nn.MaxPool2d(kernel_size=2, return_indices=True)# 128 -> 64\n",
    "                                       \n",
    "\n",
    "        self.enc_conv2 = nn.Sequential(\n",
    "            nn.Conv2d(in_channels=32, out_channels=64, padding=1, kernel_size=3),\n",
    "            nn.BatchNorm2d(64),\n",
    "            nn.ReLU()\n",
    "            )\n",
    "        self.pool2 = nn.MaxPool2d(kernel_size=2, return_indices=True) # 64 -> 32\n",
    "                                      \n",
    "        \n",
    "        self.enc_conv3 = nn.Sequential(\n",
    "            nn.Conv2d(in_channels=64, out_channels=128, padding=1, kernel_size=3),\n",
    "            nn.BatchNorm2d(128),\n",
    "            nn.ReLU()\n",
    "            )\n",
    "        self.pool3 = nn.MaxPool2d(kernel_size=2, return_indices=True)      # 32 -> 16\n",
    "                                       \n",
    "        self.enc_conv4 = nn.Sequential(\n",
    "            nn.Conv2d(in_channels=128, out_channels=256, padding=1, kernel_size=3),\n",
    "            nn.BatchNorm2d(256),\n",
    "            nn.ReLU()\n",
    "            )\n",
    "        self.pool4 = nn.MaxPool2d(kernel_size=2, return_indices=True) \n",
    "        # bottleneck\n",
    "        self.bottleneck_conv = nn.Sequential(\n",
    "            nn.Conv2d(in_channels=256, out_channels=256, padding=1, kernel_size=3),\n",
    "            nn.BatchNorm2d(256)\n",
    "        )\n",
    "        \n",
    "        # decoder (upsampling)\n",
    "        #self.upsample0  # 16 -> 32\n",
    "        self.upsample0 = nn.MaxUnpool2d(kernel_size=2)\n",
    "        self.dec_conv0 = nn.Sequential(\n",
    "            nn.Conv2d(256, 128, kernel_size=3, padding=1),\n",
    "            nn.BatchNorm2d(128),\n",
    "            nn.ReLU()\n",
    "        )\n",
    "        \n",
    "        #self.upsample1 =  # 32 -> 64\n",
    "        self.upsample1 = nn.MaxUnpool2d(kernel_size=2)\n",
    "        self.dec_conv1 = nn.Sequential(\n",
    "            nn.Conv2d(128,64,kernel_size=3,padding=1),\n",
    "            nn.BatchNorm2d(64),\n",
    "            nn.ReLU()\n",
    "        )\n",
    "        \n",
    "       # self.upsample2 =   # 64 -> 128\n",
    "        self.upsample2 = nn.MaxUnpool2d(kernel_size=2)\n",
    "        self.dec_conv2 = nn.Sequential(\n",
    "            nn.Conv2d(64, 32, kernel_size=3, padding=1),\n",
    "            nn.BatchNorm2d(32),\n",
    "            nn.ReLU()\n",
    "        )\n",
    "        \n",
    "       # self.upsample3 =   # 128 -> 256\n",
    "        self.upsample3 = nn.MaxUnpool2d(kernel_size=2)\n",
    "        self.dec_conv3 = nn.Sequential(\n",
    "            nn.Conv2d(32, 8, kernel_size=3, padding=1),\n",
    "            nn.BatchNorm2d(8),\n",
    "            nn.ReLU()\n",
    "        )\n",
    "        \n",
    "        self.upsample4 = nn.MaxUnpool2d(kernel_size=2)\n",
    "        self.dec_conv4 = nn.Sequential(\n",
    "            nn.Conv2d(8, 1, kernel_size=3, padding=1),\n",
    "            nn.BatchNorm2d(1),\n",
    "            nn.ReLU()\n",
    "        )\n",
    "    \n",
    "    def forward(self, x):\n",
    "        # encoder\n",
    "        e0, i4 = self.pool0(self.enc_conv0(x))     \n",
    "        e1, i3 = self.pool1(self.enc_conv1(e0))\n",
    "        e2, i2 = self.pool2(self.enc_conv2(e1))\n",
    "        e3, i1 = self.pool3(self.enc_conv3(e2))\n",
    "        e4, i0 = self.pool4(self.enc_conv4(e3))\n",
    "        # bottleneck\n",
    "        b = self.bottleneck_conv(e4)\n",
    "\n",
    "        # decoder\n",
    "        d0 = self.dec_conv0(self.upsample0(b,i0))\n",
    "        d1 = self.dec_conv1(self.upsample1(d0,i1))\n",
    "        d2 = self.dec_conv2(self.upsample2(d1,i2))\n",
    "        d3 = self.dec_conv3(self.upsample3(d2,i3))\n",
    "        d4 = self.dec_conv4(self.upsample4(d3,i4))\n",
    "         # no activation\n",
    "        return d4"
   ]
  },
  {
   "cell_type": "code",
   "execution_count": 18,
   "metadata": {
    "id": "2rHxBBecXTZ7"
   },
   "outputs": [],
   "source": [
    "def iou_pytorch(outputs: torch.Tensor, masks: torch.Tensor):\n",
    "    # You can comment out this line if you are passing tensors of equal shape\n",
    "    # But if you are passing output from UNet or something it will most probably\n",
    "    # be with the BATCH x 1 x H x W shape\n",
    "    outputs = outputs.squeeze(0).byte()  # BATCH x 1 x H x W => BATCH x H x W\n",
    "    masks = masks.squeeze(0).byte()\n",
    "    SMOOTH = 1e-8\n",
    "    intersection = (outputs & masks).float().sum((1, 2))  # Will be zero if Truth=0 or Prediction=0\n",
    "    union = (outputs | masks).float().sum((1, 2))         # Will be zzero if both are 0\n",
    "    \n",
    "    iou = (intersection + SMOOTH) / (union + SMOOTH)  # We smooth our devision to avoid 0/0\n",
    "    \n",
    "    #thresholded = torch.clamp(20 * (iou - 0.5), 0, 10).ceil() / 10  # This is equal to comparing with thresolds\n",
    "    \n",
    "    return iou.mean() #thresholded  # "
   ]
  },
  {
   "cell_type": "code",
   "execution_count": 19,
   "metadata": {
    "id": "OwhM-ZruXW2O"
   },
   "outputs": [],
   "source": [
    "def bce_loss(y_real, y_pred):\n",
    "    a=y_pred-y_pred * y_real + torch.log(1 + torch.exp(-y_pred))\n",
    "    a=a.mean()  # TODO \n",
    "    return a  # please don't use nn.BCELoss. write it from scratch"
   ]
  },
  {
   "cell_type": "code",
   "execution_count": 20,
   "metadata": {
    "id": "8CrsuYUPXW5G"
   },
   "outputs": [],
   "source": [
    "def train(model, opt, loss_fn, epochs, data_tr, data_val, data_ts, lr_scheduler=None):\n",
    "    train_losses = []\n",
    "    val_losses = []\n",
    "\n",
    "    accuracy_train = []\n",
    "    accuracy_val = []\n",
    "    \n",
    "    for epoch in range(epochs):\n",
    "        train_loss_epoch = 0\n",
    "        validation_loss_epoch = 0\n",
    "        \n",
    "        train_scores = 0\n",
    "        val_scores = 0\n",
    "        \n",
    "        tic = time()\n",
    "        print('* Epoch %d/%d' % (epoch + 1, epochs))\n",
    "\n",
    "        avg_loss = 0\n",
    "\n",
    "        model.train()  # train mode\n",
    "        \n",
    "        for X_train, Y_train in tqdm(data_tr):\n",
    "            X_train, Y_train = X_train.to(device), Y_train.to(device) # data to device\n",
    "\n",
    "            # set parameter gradients to zero\n",
    "            opt.zero_grad()\n",
    "            \n",
    "            # forward\n",
    "            Y_pred = model(X_train)\n",
    "\n",
    "            loss = loss_fn(Y_train, Y_pred) # forward-pass\n",
    "            \n",
    "            loss.backward()  # backward-pass\n",
    "            opt.step()  # update weights\n",
    "            \n",
    "            train_loss_epoch += loss.item()\n",
    "            \n",
    "            # log to wandb\n",
    "            wandb.log({\"train_loss\": loss})\n",
    "            \n",
    "            # calc accuracy\n",
    "            train_scores += iou_pytorch(Y_pred > 0.5, Y_train).mean().item()\n",
    "        \n",
    "        toc = time()\n",
    "        \n",
    "        # show intermediate results\n",
    "        model.eval()  # testing mode\n",
    "        \n",
    "        for X_val, Y_val in tqdm(data_val):\n",
    "            X_val, Y_val = X_val.to(device), Y_val.to(device)\n",
    "\n",
    "            with torch.no_grad():    \n",
    "                Y_hat = model(X_val.to(device))\n",
    "            \n",
    "            vall_loss = loss_fn(Y_val, Y_hat)\n",
    "            \n",
    "            validation_loss_epoch += loss.item()\n",
    "            \n",
    "            # calc accuracy\n",
    "            val_scores += iou_pytorch(Y_hat > 0.5, Y_val).mean().item()\n",
    "        \n",
    "        # reduce learning rate if lr_scheduler is not None\n",
    "        if lr_scheduler is not None:\n",
    "            lr_scheduler.step()\n",
    "            \n",
    "        # calc loss per epoch\n",
    "        train_loss = train_loss_epoch / len(data_tr)\n",
    "        val_loss = validation_loss_epoch / len(data_val)\n",
    "        \n",
    "        # add to lists\n",
    "        train_losses.append(train_loss)\n",
    "        val_losses.append(val_loss)\n",
    "        \n",
    "        # log loss to wandb\n",
    "        wandb.log({\"val_loss\": val_loss})\n",
    "\n",
    "        acc_train_epoch = train_scores / len(data_tr)\n",
    "        acc_val_epoch = val_scores / len(data_val)\n",
    "        \n",
    "        # add accuracy to lists\n",
    "        accuracy_train.append(acc_train_epoch)\n",
    "        accuracy_val.append(acc_val_epoch)\n",
    "        \n",
    "        wandb.log({\"train_acc\": acc_train_epoch})\n",
    "        wandb.log({\"val_acc\": acc_val_epoch})\n",
    "        \n",
    "        # Visualize tools\n",
    "        clear_output(wait=True)\n",
    "            \n",
    "        X_val, Y_val = next(iter(data_val))\n",
    "        X_val, Y_val = X_val.to(device), Y_val.to(device)\n",
    "\n",
    "        with torch.no_grad():\n",
    "            Y_hat = model(X_val)\n",
    "        \n",
    "        for k in range(6):\n",
    "            plt.subplot(3, 6, k+1)\n",
    "            plt.imshow(Y_val.cpu().detach()[k, 0], cmap='gray')\n",
    "            plt.title('Real')\n",
    "            plt.axis('off')\n",
    "\n",
    "            plt.subplot(3, 6, k+7)\n",
    "            plt.imshow(Y_hat.cpu().detach()[k, 0]>0.5, cmap='gray')\n",
    "            plt.title('Output')\n",
    "            plt.axis('off')\n",
    "\n",
    "            plt.subplot(3, 6, k+13)\n",
    "            plt.imshow(Y_hat.cpu().detach()[k, 0], cmap='gray') \n",
    "            plt.title('Output2')\n",
    "            plt.axis('off')\n",
    "        \n",
    "        plt.suptitle('%d / %d - loss_train: %f || loss_val: %f || acc_train_epoch: %f || acc_val_epoch: %f' % (\n",
    "            epoch + 1, epochs, train_loss, val_loss, acc_train_epoch, acc_val_epoch)\n",
    "        )\n",
    "        \n",
    "        # save plot visualization\n",
    "        plt.savefig(f\"output_{epoch + 1}.png\")\n",
    "        \n",
    "    # test model\n",
    "    X_test, Y_test = next(iter(data_ts))\n",
    "    X_test, Y_test = X_test.to(device), Y_test.to(device)\n",
    "\n",
    "    with torch.no_grad():\n",
    "        Y_hat = model(X_test)\n",
    "        \n",
    "    # visualize test data\n",
    "    test(model, X_test, Y_hat)\n",
    "                \n",
    "    return accuracy_test, accuracy_val"
   ]
  },
  {
   "cell_type": "code",
   "execution_count": 21,
   "metadata": {
    "id": "8thFd-NBXvQQ"
   },
   "outputs": [],
   "source": [
    "m, n = next(iter(test_loader))"
   ]
  },
  {
   "cell_type": "code",
   "execution_count": 22,
   "metadata": {
    "id": "fBNaoTryX13J"
   },
   "outputs": [],
   "source": [
    "def test(model, y_true, y_pred):   \n",
    "    for k in range(6):\n",
    "        plt.subplot(3, 6, k + 1)\n",
    "        plt.imshow(y_true[k][0])\n",
    "\n",
    "        plt.subplot(3, 6, k + 7)\n",
    "        plt.imshow(y_pred[k][0])\n",
    "\n",
    "        plt.subplot(3, 6, k + 13)\n",
    "        plt.imshow(y_pred[k][0] > 0.5)\n",
    "        \n",
    "    plt.savefig(\"output_test.png\")"
   ]
  },
  {
   "cell_type": "code",
   "execution_count": 23,
   "metadata": {
    "colab": {
     "base_uri": "https://localhost:8080/"
    },
    "id": "2dNc42p7ZMTs",
    "outputId": "97d5f380-ba1c-4787-8e37-67b3f1145f1e"
   },
   "outputs": [
    {
     "name": "stdout",
     "output_type": "stream",
     "text": [
      "cuda:1\n"
     ]
    }
   ],
   "source": [
    "device = torch.device('cuda:1' if torch.cuda.is_available() else 'cpu')\n",
    "print(device)"
   ]
  },
  {
   "cell_type": "code",
   "execution_count": 24,
   "metadata": {
    "id": "0tI91mNBX6th"
   },
   "outputs": [],
   "source": [
    "model = SegNet2().to(device)"
   ]
  },
  {
   "cell_type": "code",
   "execution_count": 25,
   "metadata": {
    "colab": {
     "base_uri": "https://localhost:8080/"
    },
    "id": "paGohtyEX6xO",
    "outputId": "a49f2e3c-1b1d-476a-c943-8acff7c9177d"
   },
   "outputs": [
    {
     "ename": "NameError",
     "evalue": "name 'Y' is not defined",
     "output_type": "error",
     "traceback": [
      "\u001b[0;31m---------------------------------------------------------------------------\u001b[0m",
      "\u001b[0;31mNameError\u001b[0m                                 Traceback (most recent call last)",
      "Cell \u001b[0;32mIn[25], line 4\u001b[0m\n\u001b[1;32m      2\u001b[0m opt \u001b[38;5;241m=\u001b[39m torch\u001b[38;5;241m.\u001b[39moptim\u001b[38;5;241m.\u001b[39mAdam(model\u001b[38;5;241m.\u001b[39mparameters(), lr \u001b[38;5;241m=\u001b[39m \u001b[38;5;241m1e-3\u001b[39m)\n\u001b[1;32m      3\u001b[0m lr_scheduler \u001b[38;5;241m=\u001b[39m torch\u001b[38;5;241m.\u001b[39moptim\u001b[38;5;241m.\u001b[39mlr_scheduler\u001b[38;5;241m.\u001b[39mExponentialLR(optimizer\u001b[38;5;241m=\u001b[39mopt,gamma\u001b[38;5;241m=\u001b[39m\u001b[38;5;241m0.95\u001b[39m)\n\u001b[0;32m----> 4\u001b[0m Segnet_BCE_test_acc, Segnet_BCE_val_acc \u001b[38;5;241m=\u001b[39m \u001b[43mtrain\u001b[49m\u001b[43m(\u001b[49m\u001b[43mmodel\u001b[49m\u001b[43m,\u001b[49m\u001b[43m \u001b[49m\u001b[43mopt\u001b[49m\u001b[43m,\u001b[49m\u001b[43m \u001b[49m\u001b[43mbce_loss\u001b[49m\u001b[43m,\u001b[49m\u001b[43m \u001b[49m\u001b[43mmax_epochs\u001b[49m\u001b[43m,\u001b[49m\u001b[43m \u001b[49m\u001b[43mtrain_loader\u001b[49m\u001b[43m,\u001b[49m\u001b[43m \u001b[49m\u001b[43mval_loader\u001b[49m\u001b[43m,\u001b[49m\u001b[43m \u001b[49m\u001b[43mtest_loader\u001b[49m\u001b[43m,\u001b[49m\u001b[43m \u001b[49m\u001b[43mlr_scheduler\u001b[49m\u001b[43m)\u001b[49m\n",
      "Cell \u001b[0;32mIn[20], line 124\u001b[0m, in \u001b[0;36mtrain\u001b[0;34m(model, opt, loss_fn, epochs, data_tr, data_val, data_ts, lr_scheduler)\u001b[0m\n\u001b[1;32m    121\u001b[0m     Y_hat \u001b[38;5;241m=\u001b[39m model(X_test)\n\u001b[1;32m    123\u001b[0m \u001b[38;5;66;03m# visualize test data\u001b[39;00m\n\u001b[0;32m--> 124\u001b[0m test(model, X_test, \u001b[43mY\u001b[49m\u001b[38;5;241m+\u001b[39mhat)\n\u001b[1;32m    126\u001b[0m \u001b[38;5;28;01mreturn\u001b[39;00m accuracy_test, accuracy_val\n",
      "\u001b[0;31mNameError\u001b[0m: name 'Y' is not defined"
     ]
    },
    {
     "data": {
      "image/png": "[encoded data removed]",
      "text/plain": [
       "<Figure size 1500x400 with 18 Axes>"
      ]
     },
     "metadata": {},
     "output_type": "display_data"
    }
   ],
   "source": [
    "max_epochs = 2\n",
    "opt = torch.optim.Adam(model.parameters(), lr = 1e-3)\n",
    "lr_scheduler = torch.optim.lr_scheduler.ExponentialLR(optimizer=opt,gamma=0.95)\n",
    "Segnet_BCE_test_acc, Segnet_BCE_val_acc = train(model, opt, bce_loss, max_epochs, train_loader, val_loader, test_loader, lr_scheduler)"
   ]
  },
  {
   "cell_type": "code",
   "execution_count": null,
   "metadata": {},
   "outputs": [],
   "source": []
  }
 ],
 "metadata": {
  "colab": {
   "gpuType": "T4",
   "provenance": []
  },
  "gpuClass": "standard",
  "kernelspec": {
   "display_name": "Python 3 (ipykernel)",
   "language": "python",
   "name": "python3"
  },
  "language_info": {
   "codemirror_mode": {
    "name": "ipython",
    "version": 3
   },
   "file_extension": ".py",
   "mimetype": "text/x-python",
   "name": "python",
   "nbconvert_exporter": "python",
   "pygments_lexer": "ipython3",
   "version": "3.10.8"
  }
 },
 "nbformat": 4,
 "nbformat_minor": 4
}
